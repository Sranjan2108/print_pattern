{
 "cells": [
  {
   "cell_type": "code",
   "execution_count": null,
   "id": "b652b2e9",
   "metadata": {},
   "outputs": [],
   "source": [
    "                                  T&T LAB-2\n",
    "                  Name              :      Sudhanshu Ranjan \n",
    "                  Roll No           :      21052369\n",
    "                  Section           :      CSE-36 Group- 2\n",
    "                  Branch            :      CSE\n",
    "                  Date              :      24-01-2024\n"
   ]
  },
  {
   "cell_type": "code",
   "execution_count": 2,
   "id": "52207c1c",
   "metadata": {},
   "outputs": [
    {
     "name": "stdout",
     "output_type": "stream",
     "text": [
      "* * * * * \r\n",
      "* * * * * \r\n",
      "* * * * * \r\n",
      "* * * * * \r\n",
      "* * * * * \r\n"
     ]
    }
   ],
   "source": [
    "# q1\n",
    "rows = 5\n",
    "for i in range(0, rows):\n",
    "    # nested loop for each column\n",
    "    for j in range(0, rows):\n",
    "        print(\"*\", end=' ')\n",
    "    print(\"\\r\")\n"
   ]
  },
  {
   "cell_type": "code",
   "execution_count": 5,
   "id": "51b28b42",
   "metadata": {},
   "outputs": [
    {
     "name": "stdout",
     "output_type": "stream",
     "text": [
      "1 1 1 1 1 \r\n",
      "2 2 2 2 2 \r\n",
      "3 3 3 3 3 \r\n",
      "4 4 4 4 4 \r\n",
      "5 5 5 5 5 \r\n"
     ]
    }
   ],
   "source": [
    "# q2\n",
    "rows = 5\n",
    "for i in range(0, rows):\n",
    "    # nested loop for each column\n",
    "    for j in range(0, rows):\n",
    "        print(i+1, end=' ')\n",
    "    print(\"\\r\")\n"
   ]
  },
  {
   "cell_type": "code",
   "execution_count": 6,
   "id": "e2e38146",
   "metadata": {},
   "outputs": [
    {
     "name": "stdout",
     "output_type": "stream",
     "text": [
      "1 2 3 4 5 \r\n",
      "1 2 3 4 5 \r\n",
      "1 2 3 4 5 \r\n",
      "1 2 3 4 5 \r\n",
      "1 2 3 4 5 \r\n"
     ]
    }
   ],
   "source": [
    "# q3\n",
    "rows = 5\n",
    "for i in range(0, rows):\n",
    "    # nested loop for each column\n",
    "    for j in range(0, rows):\n",
    "        print(j+1, end=' ')\n",
    "    print(\"\\r\")\n"
   ]
  },
  {
   "cell_type": "code",
   "execution_count": 13,
   "id": "a4a4b595",
   "metadata": {},
   "outputs": [
    {
     "name": "stdout",
     "output_type": "stream",
     "text": [
      "5 5 5 5 5 \r\n",
      "4 4 4 4 4 \r\n",
      "3 3 3 3 3 \r\n",
      "2 2 2 2 2 \r\n",
      "1 1 1 1 1 \r\n"
     ]
    }
   ],
   "source": [
    "# q4\n",
    "rows = 5\n",
    "for i in range(0, rows):\n",
    "    # nested loop for each column\n",
    "    for j in range(0, rows):\n",
    "        print(rows-i, end=' ')\n",
    "    print(\"\\r\")\n"
   ]
  },
  {
   "cell_type": "code",
   "execution_count": 20,
   "id": "d935ec67",
   "metadata": {},
   "outputs": [
    {
     "name": "stdout",
     "output_type": "stream",
     "text": [
      "A A A A A  \n",
      "B B B B B  \n",
      "C C C C C  \n",
      "D D D D D  \n",
      "E E E E E  \n"
     ]
    }
   ],
   "source": [
    "# q5\n",
    "ascii_number = 65\n",
    "rows = 5\n",
    "for i in range(0, rows):\n",
    "    for j in range(0, rows):\n",
    "        character = chr(ascii_number)\n",
    "        print(character, end=' ')\n",
    "    ascii_number += 1\n",
    "    \n",
    "        \n",
    "    print(\" \")"
   ]
  },
  {
   "cell_type": "code",
   "execution_count": 21,
   "id": "c05d3276",
   "metadata": {},
   "outputs": [
    {
     "name": "stdout",
     "output_type": "stream",
     "text": [
      "E E E E E  \n",
      "D D D D D  \n",
      "C C C C C  \n",
      "B B B B B  \n",
      "A A A A A  \n"
     ]
    }
   ],
   "source": [
    "# q6\n",
    "ascii_number = 69\n",
    "rows = 5\n",
    "for i in range(0, rows):\n",
    "    for j in range(0, rows):\n",
    "        character = chr(ascii_number)\n",
    "        print(character, end=' ')\n",
    "    ascii_number -= 1\n",
    "    \n",
    "        \n",
    "    print(\" \")"
   ]
  },
  {
   "cell_type": "code",
   "execution_count": 25,
   "id": "e22e4b99",
   "metadata": {},
   "outputs": [
    {
     "name": "stdout",
     "output_type": "stream",
     "text": [
      "* \r\n",
      "* * \r\n",
      "* * * \r\n",
      "* * * * \r\n",
      "* * * * * \r\n"
     ]
    }
   ],
   "source": [
    "# q7\n",
    "rows = 5\n",
    "for i in range(0, rows):\n",
    "    # nested loop for each column\n",
    "    for j in range(0, i+1):\n",
    "        print(\"*\", end=' ')\n",
    "    print(\"\\r\")\n"
   ]
  },
  {
   "cell_type": "code",
   "execution_count": 27,
   "id": "85b6f6b9",
   "metadata": {},
   "outputs": [
    {
     "name": "stdout",
     "output_type": "stream",
     "text": [
      "1 \r\n",
      "2 2 \r\n",
      "3 3 3 \r\n",
      "4 4 4 4 \r\n",
      "5 5 5 5 5 \r\n"
     ]
    }
   ],
   "source": [
    "# q8\n",
    "rows = 5\n",
    "num=1\n",
    "for i in range(0, rows):\n",
    "    # nested loop for each column\n",
    "    for j in range(0, i+1):\n",
    "        print(num+i, end=' ')\n",
    "    print(\"\\r\")\n"
   ]
  },
  {
   "cell_type": "code",
   "execution_count": 33,
   "id": "907dde9e",
   "metadata": {},
   "outputs": [
    {
     "name": "stdout",
     "output_type": "stream",
     "text": [
      "1 \r\n",
      "1 2 \r\n",
      "1 2 3 \r\n",
      "1 2 3 4 \r\n",
      "1 2 3 4 5 \r\n"
     ]
    }
   ],
   "source": [
    "# q9\n",
    "rows = 5\n",
    "for i in range(0, rows):\n",
    "    # nested loop for each column\n",
    "    for j in range(0, i+1):\n",
    "        num=1\n",
    "        print(num+j, end=' ')\n",
    "    print(\"\\r\")\n"
   ]
  },
  {
   "cell_type": "code",
   "execution_count": 37,
   "id": "4309540c",
   "metadata": {},
   "outputs": [
    {
     "name": "stdout",
     "output_type": "stream",
     "text": [
      "A  \n",
      "B B  \n",
      "C C C  \n",
      "D D D D  \n",
      "E E E E E  \n"
     ]
    }
   ],
   "source": [
    "# q10\n",
    "ascii_number = 65\n",
    "rows = 5\n",
    "for i in range(0, rows):\n",
    "    for j in range(i+1):\n",
    "        character = chr(ascii_number)\n",
    "        print(character, end=' ')\n",
    "    ascii_number += 1\n",
    "    \n",
    "        \n",
    "    print(\" \")"
   ]
  },
  {
   "cell_type": "code",
   "execution_count": 39,
   "id": "83b8732b",
   "metadata": {},
   "outputs": [
    {
     "name": "stdout",
     "output_type": "stream",
     "text": [
      "A  \n",
      "A B  \n",
      "A B C  \n",
      "A B C D  \n",
      "A B C D E  \n"
     ]
    }
   ],
   "source": [
    "# q11\n",
    "\n",
    "rows = 5\n",
    "for i in range(0, rows):\n",
    "    for j in range(i+1):\n",
    "        ascii_number = 65\n",
    "        character = chr(ascii_number+j)\n",
    "        print(character, end=' ')\n",
    "    ascii_number += 1\n",
    "    \n",
    "        \n",
    "    print(\" \")"
   ]
  },
  {
   "cell_type": "code",
   "execution_count": 47,
   "id": "df50f42a",
   "metadata": {},
   "outputs": [
    {
     "name": "stdout",
     "output_type": "stream",
     "text": [
      "P  \n",
      "P R  \n",
      "P R A  \n",
      "P R A B  \n",
      "P R A B H  \n",
      "P R A B H U  \n"
     ]
    }
   ],
   "source": [
    "# q11\n",
    "\n",
    "rows = 5\n",
    "word=['P','R','A','B','H','U']\n",
    "for i in range(0, len(word)):\n",
    "    for j in range(i+1):\n",
    "        print(word[j], end=' ')   \n",
    "        \n",
    "    print(\" \")"
   ]
  },
  {
   "cell_type": "code",
   "execution_count": 48,
   "id": "1e12a0cb",
   "metadata": {},
   "outputs": [
    {
     "name": "stdout",
     "output_type": "stream",
     "text": [
      "* * * * * \r\n",
      "* * * * \r\n",
      "* * * \r\n",
      "* * \r\n",
      "* \r\n"
     ]
    }
   ],
   "source": [
    "# q12\n",
    "rows = 5\n",
    "for i in range(0, rows):\n",
    "    # nested loop for each column\n",
    "    for j in range(0, rows-i):\n",
    "        print(\"*\", end=' ')\n",
    "    print(\"\\r\")\n"
   ]
  },
  {
   "cell_type": "code",
   "execution_count": 54,
   "id": "afc55b67",
   "metadata": {},
   "outputs": [
    {
     "name": "stdout",
     "output_type": "stream",
     "text": [
      "1 1 1 1 1 \r\n",
      "2 2 2 2 \r\n",
      "3 3 3 \r\n",
      "4 4 \r\n",
      "5 \r\n"
     ]
    }
   ],
   "source": [
    "# q13\n",
    "rows = 5\n",
    "for i in range(0, rows):\n",
    "    # nested loop for each column\n",
    "    for j in range(0, rows-i):\n",
    "        print(i+1 , end=' ')\n",
    "    print(\"\\r\")\n"
   ]
  },
  {
   "cell_type": "code",
   "execution_count": 55,
   "id": "233d00a8",
   "metadata": {},
   "outputs": [
    {
     "name": "stdout",
     "output_type": "stream",
     "text": [
      "1 2 3 4 5 \r\n",
      "1 2 3 4 \r\n",
      "1 2 3 \r\n",
      "1 2 \r\n",
      "1 \r\n"
     ]
    }
   ],
   "source": [
    "# q14\n",
    "rows = 5\n",
    "for i in range(0, rows):\n",
    "    # nested loop for each column\n",
    "    for j in range(0, rows-i):\n",
    "        print(j+1 , end=' ')\n",
    "    print(\"\\r\")\n"
   ]
  },
  {
   "cell_type": "code",
   "execution_count": 61,
   "id": "1a736b3d",
   "metadata": {},
   "outputs": [
    {
     "name": "stdout",
     "output_type": "stream",
     "text": [
      "A A A A A  \n",
      "B B B B  \n",
      "C C C  \n",
      "D D  \n",
      "E  \n"
     ]
    }
   ],
   "source": [
    "# q15\n",
    "\n",
    "rows = 5\n",
    "for i in range(0, rows):\n",
    "    for j in range(rows-i):\n",
    "        ascii_number = 65\n",
    "        character = chr(ascii_number+i)\n",
    "        print(character, end=' ')\n",
    "    ascii_number += 1\n",
    "    \n",
    "        \n",
    "    print(\" \")"
   ]
  },
  {
   "cell_type": "code",
   "execution_count": 62,
   "id": "a40b2e92",
   "metadata": {},
   "outputs": [
    {
     "name": "stdout",
     "output_type": "stream",
     "text": [
      "A B C D E  \n",
      "A B C D  \n",
      "A B C  \n",
      "A B  \n",
      "A  \n"
     ]
    }
   ],
   "source": [
    "# q16\n",
    "\n",
    "rows = 5\n",
    "for i in range(0, rows):\n",
    "    for j in range(rows-i):\n",
    "        ascii_number = 65\n",
    "        character = chr(ascii_number+j)\n",
    "        print(character, end=' ')\n",
    "    ascii_number += 1\n",
    "    \n",
    "        \n",
    "    print(\" \")"
   ]
  },
  {
   "cell_type": "code",
   "execution_count": 63,
   "id": "aacad822",
   "metadata": {},
   "outputs": [
    {
     "name": "stdout",
     "output_type": "stream",
     "text": [
      "E E E E E  \n",
      "D D D D  \n",
      "C C C  \n",
      "B B  \n",
      "A  \n"
     ]
    }
   ],
   "source": [
    "# q17\n",
    "\n",
    "rows = 5\n",
    "for i in range(0, rows):\n",
    "    for j in range(rows-i):\n",
    "        ascii_number = 69\n",
    "        character = chr(ascii_number-i)\n",
    "        print(character, end=' ')\n",
    "    ascii_number += 1\n",
    "    \n",
    "        \n",
    "    print(\" \")"
   ]
  },
  {
   "cell_type": "code",
   "execution_count": 64,
   "id": "134eb113",
   "metadata": {},
   "outputs": [
    {
     "name": "stdout",
     "output_type": "stream",
     "text": [
      "E D C B A  \n",
      "E D C B  \n",
      "E D C  \n",
      "E D  \n",
      "E  \n"
     ]
    }
   ],
   "source": [
    "# q18\n",
    "\n",
    "rows = 5\n",
    "for i in range(0, rows):\n",
    "    for j in range(rows-i):\n",
    "        ascii_number = 69\n",
    "        character = chr(ascii_number-j)\n",
    "        print(character, end=' ')\n",
    "    ascii_number += 1\n",
    "    \n",
    "        \n",
    "    print(\" \")"
   ]
  },
  {
   "cell_type": "code",
   "execution_count": 65,
   "id": "f2d708d9",
   "metadata": {},
   "outputs": [
    {
     "name": "stdout",
     "output_type": "stream",
     "text": [
      "P R A B H U  \n",
      "P R A B H  \n",
      "P R A B  \n",
      "P R A  \n",
      "P R  \n",
      "P  \n"
     ]
    }
   ],
   "source": [
    "# q19\n",
    "\n",
    "word=['P','R','A','B','H','U']\n",
    "for i in range(0, len(word)):\n",
    "    for j in range(len(word)-i):\n",
    "        print(word[j], end=' ')   \n",
    "        \n",
    "    print(\" \")"
   ]
  },
  {
   "cell_type": "code",
   "execution_count": 76,
   "id": "e2ca113f",
   "metadata": {},
   "outputs": [
    {
     "name": "stdout",
     "output_type": "stream",
     "text": [
      "        * \n",
      "      * * \n",
      "    * * * \n",
      "  * * * * \n",
      "* * * * * \n"
     ]
    }
   ],
   "source": [
    "# q20\n",
    "rows = 5\n",
    "k = 2 * rows - 2\n",
    "for i in range(0, rows):\n",
    "    # process each column\n",
    "    for j in range(0, k):\n",
    "        # print space in pyramid\n",
    "        print(end=\" \")\n",
    "    k = k - 2\n",
    "    for j in range(0, i + 1):\n",
    "        # display star\n",
    "        print(\"* \", end=\"\")\n",
    "    print(\"\")\n"
   ]
  },
  {
   "cell_type": "code",
   "execution_count": 74,
   "id": "29d184b8",
   "metadata": {},
   "outputs": [
    {
     "name": "stdout",
     "output_type": "stream",
     "text": [
      "        1\n",
      "       22\n",
      "      333\n",
      "     4444\n",
      "    55555\n"
     ]
    }
   ],
   "source": [
    "# q21\n",
    "rows = 5\n",
    "k = 2 * rows - 2\n",
    "for i in range(0, rows):\n",
    "    # process each column\n",
    "    for j in range(0, k):\n",
    "        # print space in pyramid\n",
    "        print(end=\" \")\n",
    "    k = k - 1\n",
    "    for j in range(0, i + 1):\n",
    "        # display star\n",
    "        print(i+1, end=\"\")\n",
    "    print(\"\")\n"
   ]
  },
  {
   "cell_type": "code",
   "execution_count": 77,
   "id": "4747d034",
   "metadata": {},
   "outputs": [
    {
     "name": "stdout",
     "output_type": "stream",
     "text": [
      "        1\n",
      "       12\n",
      "      123\n",
      "     1234\n",
      "    12345\n"
     ]
    }
   ],
   "source": [
    "# q22\n",
    "rows = 5\n",
    "k = 2 * rows - 2\n",
    "for i in range(0, rows):\n",
    "    # process each column\n",
    "    for j in range(0, k):\n",
    "        # print space in pyramid\n",
    "        print(end=\" \")\n",
    "    k = k - 1\n",
    "    for j in range(0, i + 1):\n",
    "        # display star\n",
    "        print(j+1, end=\"\")\n",
    "    print(\"\")\n"
   ]
  },
  {
   "cell_type": "code",
   "execution_count": 79,
   "id": "bfbdf5c7",
   "metadata": {},
   "outputs": [
    {
     "name": "stdout",
     "output_type": "stream",
     "text": [
      "        A \n",
      "      A B \n",
      "    A B C \n",
      "  A B C D \n",
      "A B C D E \n"
     ]
    }
   ],
   "source": [
    "# q23\n",
    "rows = 5\n",
    "k = 2 * rows - 2\n",
    "for i in range(0, rows):\n",
    "    # process each column\n",
    "    for j in range(0, k):\n",
    "        # print space in pyramid\n",
    "        print(end=\" \")\n",
    "    k = k - 2\n",
    "    for j in range(0, i + 1):\n",
    "        # display star\n",
    "        ascii_number = 65\n",
    "        character = chr(ascii_number+j)\n",
    "        print(character, end=' ')\n",
    "    print(\"\")\n"
   ]
  },
  {
   "cell_type": "code",
   "execution_count": 142,
   "id": "68307e6b",
   "metadata": {},
   "outputs": [
    {
     "name": "stdout",
     "output_type": "stream",
     "text": [
      "        A \n",
      "      B B \n",
      "    C C C \n",
      "  D D D D \n",
      "E E E E E \n"
     ]
    }
   ],
   "source": [
    "# q24\n",
    "rows = 5\n",
    "k = 2 * rows - 2\n",
    "for i in range(0, rows):\n",
    "    # process each column\n",
    "    for j in range(0, k):\n",
    "        # print space in pyramid\n",
    "        print(end=\" \")\n",
    "    k = k - 2\n",
    "    for j in range(0, i + 1):\n",
    "        # display star\n",
    "        ascii_number = 65\n",
    "        character = chr(ascii_number+i)\n",
    "        print(character, end=' ')\n",
    "    print(\"\")\n"
   ]
  },
  {
   "cell_type": "code",
   "execution_count": 143,
   "id": "437d7bad",
   "metadata": {},
   "outputs": [
    {
     "name": "stdout",
     "output_type": "stream",
     "text": [
      "     P\n",
      "    PR\n",
      "   PRA\n",
      "  PRAB\n",
      " PRABH\n",
      "PRABHU\n"
     ]
    }
   ],
   "source": [
    "# q25\n",
    "word=['P','R','A','B','H','U']\n",
    "k = len(word) - 1\n",
    "\n",
    "for i in range(0, len(word)):\n",
    "    # process each column\n",
    "    for j in range(0, k):\n",
    "        # print space in pyramid\n",
    "        print(end=\" \")\n",
    "    k = k - 1\n",
    "    for j in range(0, i + 1):\n",
    "        # display star\n",
    "        \n",
    "        print(word[j], end='')\n",
    "    print(\"\")\n"
   ]
  },
  {
   "cell_type": "code",
   "execution_count": 113,
   "id": "674e2dbb",
   "metadata": {},
   "outputs": [
    {
     "name": "stdout",
     "output_type": "stream",
     "text": [
      "*****\n",
      " ****\n",
      "  ***\n",
      "   **\n",
      "    *\n"
     ]
    }
   ],
   "source": [
    "# q26\n",
    "rows = 5\n",
    "i = rows\n",
    "while i >= 1:\n",
    "    j = rows\n",
    "    while j > i:\n",
    "        # display space\n",
    "        print('', end=' ')\n",
    "        j -= 1\n",
    "    k = 1\n",
    "    while k <= i:\n",
    "        print('*', end='')\n",
    "        k += 1\n",
    "    print()\n",
    "    i -= 1\n",
    "\n"
   ]
  },
  {
   "cell_type": "code",
   "execution_count": 112,
   "id": "9c395e44",
   "metadata": {},
   "outputs": [
    {
     "name": "stdout",
     "output_type": "stream",
     "text": [
      "55555\n",
      " 4444\n",
      "  333\n",
      "   22\n",
      "    1\n"
     ]
    }
   ],
   "source": [
    "# q27\n",
    "rows = 5\n",
    "i = rows\n",
    "while i >= 1:\n",
    "    j = rows\n",
    "    while j > i:\n",
    "        # display space\n",
    "        print('', end=' ')\n",
    "        j -= 1\n",
    "    k = 1\n",
    "    while k <= i:\n",
    "        print(i, end='')\n",
    "        k += 1\n",
    "    print()\n",
    "    i -= 1\n",
    "\n"
   ]
  },
  {
   "cell_type": "code",
   "execution_count": 110,
   "id": "d0da9fd4",
   "metadata": {},
   "outputs": [
    {
     "name": "stdout",
     "output_type": "stream",
     "text": [
      "12345\n",
      " 1234\n",
      "  123\n",
      "   12\n",
      "    1\n"
     ]
    }
   ],
   "source": [
    "# q28\n",
    "rows = 5\n",
    "i = rows\n",
    "while i >= 1:\n",
    "    j = rows\n",
    "    while j > i:\n",
    "        # display space\n",
    "        print(' ', end='')\n",
    "        j -= 1\n",
    "    k = 1\n",
    "    for j in range(0, i ):\n",
    "        # display star\n",
    "        print(j+1, end=\"\")\n",
    "    print()\n",
    "    i -= 1\n",
    "\n"
   ]
  },
  {
   "cell_type": "code",
   "execution_count": 148,
   "id": "6493e30b",
   "metadata": {},
   "outputs": [
    {
     "name": "stdout",
     "output_type": "stream",
     "text": [
      "EEEEE\n",
      " DDDD\n",
      "  CCC\n",
      "   BB\n",
      "    A\n"
     ]
    }
   ],
   "source": [
    "# q29\n",
    "rows = 5\n",
    "i = rows\n",
    "while i >= 1:\n",
    "    j = rows\n",
    "    while j > i:\n",
    "        # display space\n",
    "        print(' ', end='')\n",
    "        j -= 1\n",
    "    k = 1\n",
    "    for j in range(0, i ):\n",
    "        # display star\n",
    "        ascii_number = 65\n",
    "        character = chr(ascii_number+(i-1))\n",
    "        print(character, end='')\n",
    "    print()\n",
    "    i -= 1\n",
    "\n"
   ]
  },
  {
   "cell_type": "code",
   "execution_count": 139,
   "id": "481a48f4",
   "metadata": {},
   "outputs": [
    {
     "name": "stdout",
     "output_type": "stream",
     "text": [
      "ABCDE\n",
      " ABCD\n",
      "  ABC\n",
      "   AB\n",
      "    A\n"
     ]
    }
   ],
   "source": [
    "# q30\n",
    "rows = 5\n",
    "i = rows\n",
    "while i >= 1:\n",
    "    j = rows\n",
    "    while j > i:\n",
    "        # display space\n",
    "        print(' ', end='')\n",
    "        j -= 1\n",
    "    k = 1\n",
    "    for j in range(0, i ):\n",
    "        # display star\n",
    "        ascii_number = 65\n",
    "        character = chr(ascii_number+j)\n",
    "        print(character, end='')\n",
    "    print()\n",
    "    i -= 1\n",
    "\n"
   ]
  },
  {
   "cell_type": "code",
   "execution_count": 154,
   "id": "8744c650",
   "metadata": {},
   "outputs": [
    {
     "name": "stdout",
     "output_type": "stream",
     "text": [
      "    * \n",
      "   * * \n",
      "  * * * \n",
      " * * * * \n",
      "* * * * * \n"
     ]
    }
   ],
   "source": [
    "# q31\n",
    "rows = 5\n",
    "k = rows - 1\n",
    "for i in range(0, rows):\n",
    "    # process each column\n",
    "    for j in range(0, k):\n",
    "        # print space in pyramid\n",
    "        print(end=\" \")\n",
    "    k = k - 1\n",
    "    for j in range(0, i + 1):\n",
    "        # display star\n",
    "        print(\"* \", end=\"\")\n",
    "    print(\"\")\n"
   ]
  },
  {
   "cell_type": "code",
   "execution_count": 186,
   "id": "522e26b4",
   "metadata": {},
   "outputs": [
    {
     "name": "stdout",
     "output_type": "stream",
     "text": [
      "    1\n",
      "   222\n",
      "  33333\n",
      " 4444444\n",
      "555555555\n"
     ]
    }
   ],
   "source": [
    "#q32\n",
    "rows = 5\n",
    "\n",
    "for i in range(1, rows + 1):\n",
    "    # Print spaces\n",
    "    print(\" \" * (rows - i), end=\"\")\n",
    "\n",
    "    # Print digits\n",
    "    print(\"\".join(str(i) * (2 * i - 1)))"
   ]
  },
  {
   "cell_type": "code",
   "execution_count": 172,
   "id": "dda962be",
   "metadata": {},
   "outputs": [
    {
     "name": "stdout",
     "output_type": "stream",
     "text": [
      "* \r\n",
      "* * \r\n",
      "* * * \r\n",
      "* * * * \r\n",
      "* * * * * \r\n",
      "* * * * \r\n",
      "* * * \r\n",
      "* * \r\n",
      "* \r\n",
      "\r\n"
     ]
    }
   ],
   "source": [
    "#q32\n",
    "rows = 5\n",
    "for i in range(0, rows):\n",
    "    for j in range(0, i + 1):\n",
    "        print(\"*\", end=' ')\n",
    "    print(\"\\r\")\n",
    "\n",
    "for i in range(rows, 0, -1):\n",
    "    for j in range(0, i - 1):\n",
    "        print(\"*\", end=' ')\n",
    "    print(\"\\r\")\n"
   ]
  },
  {
   "cell_type": "code",
   "execution_count": 175,
   "id": "51b7fe0b",
   "metadata": {},
   "outputs": [
    {
     "name": "stdout",
     "output_type": "stream",
     "text": [
      "**************\n",
      "******  ******\n",
      "*****    *****\n",
      "****      ****\n",
      "***        ***\n",
      "**          **\n",
      "*            *\n"
     ]
    }
   ],
   "source": [
    "#q33\n",
    "rows = 14\n",
    "print(\"*\" * rows, end=\"\\n\")\n",
    "i = (rows // 2) - 1\n",
    "j = 2\n",
    "while i != 0:\n",
    "    while j <= (rows - 2):\n",
    "        print(\"*\" * i, end=\"\")\n",
    "        print(\" \" * j, end=\"\")\n",
    "        print(\"*\" * i, end=\"\\n\")\n",
    "        i = i - 1\n",
    "        j = j + 2"
   ]
  },
  {
   "cell_type": "code",
   "execution_count": null,
   "id": "8d77cc4d",
   "metadata": {},
   "outputs": [],
   "source": [
    "#q34\n",
    "rowa =14\n",
    "i = 0\n",
    "j = rows - 2\n",
    "while i <= (rows // 2) - 1:\n",
    "    while j >= 2:\n",
    "        print(\"*\" * i, end=\"\")\n",
    "        print(\" \" * j, end=\"\")\n",
    "        print(\"*\" * i, end=\"\\n\")\n",
    "        i = i + 1\n",
    "        j = j - 2\n",
    "print(\"*\" * rows, end=\"\\n\")"
   ]
  },
  {
   "cell_type": "code",
   "execution_count": null,
   "id": "57aeaedb",
   "metadata": {},
   "outputs": [],
   "source": [
    "i = 0\n",
    "j = rows - 2\n",
    "while i <= (rows // 2) - 1:\n",
    "    while j >= 2:\n",
    "        print(\"*\" * i, end=\"\")\n",
    "        print(\" \" * j, end=\"\")\n",
    "        print(\"*\" * i, end=\"\\n\")\n",
    "        i = i + 1\n",
    "        j = j - 2"
   ]
  },
  {
   "cell_type": "code",
   "execution_count": 185,
   "id": "1229132e",
   "metadata": {},
   "outputs": [
    {
     "name": "stdout",
     "output_type": "stream",
     "text": [
      "    *\n",
      "   ***\n",
      "  *****\n",
      " *******\n",
      "*********\n"
     ]
    }
   ],
   "source": [
    "#q36\n",
    "rows = 5\n",
    "for i in range(1, rows + 1):\n",
    "    spaces = rows - i\n",
    "    stars = 2 * i - 1\n",
    "    print(\" \" * spaces + \"*\" * stars)\n"
   ]
  },
  {
   "cell_type": "code",
   "execution_count": 188,
   "id": "c27dd8f7",
   "metadata": {},
   "outputs": [
    {
     "name": "stdout",
     "output_type": "stream",
     "text": [
      "    1\n",
      "   333\n",
      "  55555\n",
      " 7777777\n",
      "999999999\n"
     ]
    }
   ],
   "source": [
    "#q37\n",
    "rows = 5\n",
    "num = 1\n",
    "\n",
    "for i in range(1, rows + 1):\n",
    "    # Print leading spaces\n",
    "    print(\" \" * (rows - i), end=\"\")\n",
    "    \n",
    "    # Print the numbers\n",
    "    print(str(num) * (2 * i - 1), end=\"\")\n",
    "    \n",
    "    # Move to the next line\n",
    "    print()\n",
    "    \n",
    "    # Increase the number for the next row\n",
    "    num += 2\n"
   ]
  },
  {
   "cell_type": "code",
   "execution_count": 189,
   "id": "87529733",
   "metadata": {},
   "outputs": [
    {
     "name": "stdout",
     "output_type": "stream",
     "text": [
      "    1\n",
      "   123\n",
      "  12345\n",
      " 1234567\n",
      "123456789\n"
     ]
    }
   ],
   "source": [
    "#q38\n",
    "rows = 5\n",
    "num = 1\n",
    "\n",
    "for i in range(1, rows + 1):\n",
    "    # Print spaces\n",
    "    for j in range(rows, i, -1):\n",
    "        print(\" \", end=\"\")\n",
    "    \n",
    "    # Print numbers\n",
    "    for k in range(1, num + 1):\n",
    "        print(k, end=\"\")\n",
    "    \n",
    "    print()\n",
    "    \n",
    "    # Update the number for the next row\n",
    "    num += 2\n"
   ]
  },
  {
   "cell_type": "code",
   "execution_count": 190,
   "id": "6de35c82",
   "metadata": {},
   "outputs": [
    {
     "name": "stdout",
     "output_type": "stream",
     "text": [
      "    1\n",
      "   123\n",
      "  12345\n",
      " 1234567\n",
      "123456789\n"
     ]
    }
   ],
   "source": [
    "#q39\n",
    "rows = 5\n",
    "current_number = 1\n",
    "\n",
    "for i in range(1, rows + 1):\n",
    "    for j in range(rows, i, -1):\n",
    "        print(\" \", end=\"\")\n",
    "    \n",
    "    for k in range(1, current_number + 1):\n",
    "        print(k, end=\"\")\n",
    "    \n",
    "    print()\n",
    "    current_number += 2\n"
   ]
  },
  {
   "cell_type": "code",
   "execution_count": 191,
   "id": "1dfd7f0e",
   "metadata": {},
   "outputs": [
    {
     "name": "stdout",
     "output_type": "stream",
     "text": [
      "    A\n",
      "   BBB\n",
      "  CCCCC\n",
      " DDDDDDD\n",
      "EEEEEEEEE\n"
     ]
    }
   ],
   "source": [
    "#q40\n",
    "rows = 5\n",
    "current_char = 65  # ASCII value for 'A'\n",
    "\n",
    "for i in range(1, rows + 1):\n",
    "    # Print spaces\n",
    "    for j in range(rows, i, -1):\n",
    "        print(\" \", end=\"\")\n",
    "    \n",
    "    # Print characters\n",
    "    for k in range(1, 2 * i):\n",
    "        print(chr(current_char), end=\"\")\n",
    "    \n",
    "    # Move to the next character\n",
    "    current_char += 1\n",
    "\n",
    "    # Move to the next line after completing each row\n",
    "    print()\n"
   ]
  },
  {
   "cell_type": "code",
   "execution_count": 192,
   "id": "6387c04e",
   "metadata": {},
   "outputs": [
    {
     "name": "stdout",
     "output_type": "stream",
     "text": [
      "    A\n",
      "   CCC\n",
      "  EEEEE\n",
      " GGGGGGG\n",
      "IIIIIIIII\n"
     ]
    }
   ],
   "source": [
    "#q41\n",
    "rows = 5\n",
    "current_char = ord('A')\n",
    "\n",
    "for i in range(1, rows + 1):\n",
    "    spaces = ' ' * (rows - i)\n",
    "    chars = chr(current_char) * (2 * i - 1)\n",
    "    print(spaces + chars)\n",
    "    current_char += 2\n"
   ]
  },
  {
   "cell_type": "code",
   "execution_count": 194,
   "id": "733d0a4e",
   "metadata": {},
   "outputs": [
    {
     "name": "stdout",
     "output_type": "stream",
     "text": [
      "    A\n",
      "   ABC\n",
      "  ABCDE\n",
      " ABCDEFG\n",
      "ABCDEFGHI\n"
     ]
    }
   ],
   "source": [
    "#q42\n",
    "rows = 5\n",
    "for i in range(1, rows + 1):\n",
    "    # Print leading spaces\n",
    "    for j in range(rows - i):\n",
    "        print(\" \", end=\"\")\n",
    "    \n",
    "    # Print characters\n",
    "    for k in range(1, 2 * i):\n",
    "        print(chr(ord('A') + k - 1), end=\"\")\n",
    "    \n",
    "    # Move to the next line\n",
    "    print()\n"
   ]
  },
  {
   "cell_type": "code",
   "execution_count": 203,
   "id": "9ea692fe",
   "metadata": {},
   "outputs": [
    {
     "name": "stdout",
     "output_type": "stream",
     "text": [
      "    A \n",
      "   B A \n",
      "  C B A \n",
      " D C B A \n",
      "E D C B A \n"
     ]
    }
   ],
   "source": [
    "#q43\n",
    "rows = 5\n",
    "for i in range(1, rows + 1):\n",
    "    # Print spaces\n",
    "    for j in range(rows, i, -1):\n",
    "        print(\" \", end=\"\")\n",
    "    \n",
    "    # Print characters in reverse order\n",
    "    for k in range(i, 0, -1):\n",
    "        print(chr(64 + k), end=\" \")\n",
    "    \n",
    "    print()\n"
   ]
  },
  {
   "cell_type": "code",
   "execution_count": 204,
   "id": "efbbf28d",
   "metadata": {},
   "outputs": [
    {
     "name": "stdout",
     "output_type": "stream",
     "text": [
      "P\n",
      "PR\n",
      "PRA\n",
      "PRAB\n",
      "PRABH\n",
      "PRABHU\n",
      "PRABH\n",
      "PRAB\n",
      "PRA\n",
      "PR\n",
      "P\n"
     ]
    }
   ],
   "source": [
    "#q44\n",
    "word = \"PRABHU\"\n",
    "length = len(word)\n",
    "\n",
    "# Print the pattern\n",
    "for i in range(1, length + 1):\n",
    "    print(word[:i])\n",
    "\n",
    "for i in range(length - 1, 0, -1):\n",
    "    print(word[:i])\n"
   ]
  },
  {
   "cell_type": "code",
   "execution_count": 207,
   "id": "c4bd8902",
   "metadata": {},
   "outputs": [
    {
     "name": "stdout",
     "output_type": "stream",
     "text": [
      "**********\n",
      "****  ****\n",
      "***    ***\n",
      "**      **\n",
      "*        *\n",
      "**      **\n",
      "***    ***\n",
      "****  ****\n",
      "**********\n"
     ]
    }
   ],
   "source": [
    "#q45\n",
    "rows = 5\n",
    "\n",
    "# Print the pattern\n",
    "for i in range(rows, 0, -1):\n",
    "    print(\"*\" * i + \" \" * (2 * (rows - i)) + \"*\" * i)\n",
    "\n",
    "# Print the pattern in reverse\n",
    "for i in range(2, rows + 1):\n",
    "    print(\"*\" * i + \" \" * (2 * (rows - i)) + \"*\" * i)\n",
    "\n"
   ]
  },
  {
   "cell_type": "code",
   "execution_count": null,
   "id": "b9276208",
   "metadata": {},
   "outputs": [],
   "source": []
  }
 ],
 "metadata": {
  "kernelspec": {
   "display_name": "Python 3 (ipykernel)",
   "language": "python",
   "name": "python3"
  },
  "language_info": {
   "codemirror_mode": {
    "name": "ipython",
    "version": 3
   },
   "file_extension": ".py",
   "mimetype": "text/x-python",
   "name": "python",
   "nbconvert_exporter": "python",
   "pygments_lexer": "ipython3",
   "version": "3.11.5"
  }
 },
 "nbformat": 4,
 "nbformat_minor": 5
}
